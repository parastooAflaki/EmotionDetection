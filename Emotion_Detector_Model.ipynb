{
  "nbformat": 4,
  "nbformat_minor": 0,
  "metadata": {
    "colab": {
      "name": "Untitled",
      "provenance": [],
      "toc_visible": true,
      "authorship_tag": "ABX9TyNNoaLVddLDIBjFCbuJuIp9"
    },
    "kernelspec": {
      "name": "python3",
      "display_name": "Python 3"
    },
    "accelerator": "GPU"
  },
  "cells": [
    {
      "cell_type": "code",
      "metadata": {
        "id": "kTkYzRiJwlhi",
        "colab_type": "code",
        "colab": {}
      },
      "source": [
        "import numpy as np\n",
        "from keras import layers\n",
        "from keras.layers import Input, Dense, Activation, ZeroPadding2D, BatchNormalization, Flatten, Conv2D\n",
        "from keras.layers import AveragePooling2D, MaxPooling2D, Dropout, GlobalMaxPooling2D, GlobalAveragePooling2D\n",
        "from keras.models import Model\n",
        "from keras.preprocessing import image\n",
        "from keras.utils import layer_utils\n",
        "from keras.utils.data_utils import get_file\n",
        "from keras.applications.imagenet_utils import preprocess_input\n",
        "import pydot\n",
        "from IPython.display import SVG\n",
        "from keras.utils.vis_utils import model_to_dot\n",
        "from keras.utils import plot_model\n",
        "\n",
        "import h5py\n",
        "import keras.backend as K\n",
        "K.set_image_data_format('channels_last')\n",
        "import matplotlib.pyplot as plt\n",
        "from matplotlib.pyplot import imshow\n",
        "\n",
        "%matplotlib inline"
      ],
      "execution_count": 0,
      "outputs": []
    },
    {
      "cell_type": "code",
      "metadata": {
        "id": "5MG5o-aE7BLt",
        "colab_type": "code",
        "colab": {}
      },
      "source": [
        "def load_dataset():\n",
        "    train_dataset = h5py.File('train_happy.h5', \"r\")\n",
        "    train_set_x_orig = np.array(train_dataset[\"train_set_x\"][:]) #  train set features\n",
        "    train_set_y_orig = np.array(train_dataset[\"train_set_y\"][:]) #  train set labels\n",
        "\n",
        "    test_dataset = h5py.File('test_happy.h5', \"r\")\n",
        "    test_set_x_orig = np.array(test_dataset[\"test_set_x\"][:]) #  test set features\n",
        "    test_set_y_orig = np.array(test_dataset[\"test_set_y\"][:]) #  test set labels\n",
        "\n",
        "    classes = np.array(test_dataset[\"list_classes\"][:]) # the list of classes\n",
        "    \n",
        "    train_set_y_orig = train_set_y_orig.reshape((1, train_set_y_orig.shape[0]))\n",
        "    test_set_y_orig = test_set_y_orig.reshape((1, test_set_y_orig.shape[0]))\n",
        "    \n",
        "    return train_set_x_orig, train_set_y_orig, test_set_x_orig, test_set_y_orig, classes\n"
      ],
      "execution_count": 0,
      "outputs": []
    },
    {
      "cell_type": "markdown",
      "metadata": {
        "id": "1R41uzFsxApS",
        "colab_type": "text"
      },
      "source": [
        "unlike TensorFlow, you don't have to create the graph and then make a separate sess.run() call to evaluate those variables.\n",
        "\n",
        "BatchNormalization AXIS = 3 !"
      ]
    },
    {
      "cell_type": "code",
      "metadata": {
        "id": "LCfE8q1C70e8",
        "colab_type": "code",
        "colab": {
          "base_uri": "https://localhost:8080/",
          "height": 128
        },
        "outputId": "897e02c7-ecbe-4bdc-b5bb-39185f91d1d3"
      },
      "source": [
        "X_train_orig, Y_train_orig, X_test_orig, Y_test_orig, classes = load_dataset()\n",
        "\n",
        "# Normalize image vectors\n",
        "X_train = X_train_orig/255.\n",
        "X_test = X_test_orig/255.\n",
        "\n",
        "# Reshape\n",
        "Y_train = Y_train_orig.T\n",
        "Y_test = Y_test_orig.T\n",
        "\n",
        "print (\"number of training examples = \" + str(X_train.shape[0]))\n",
        "print (\"number of test examples = \" + str(X_test.shape[0]))\n",
        "print (\"X_train shape: \" + str(X_train.shape))\n",
        "print (\"Y_train shape: \" + str(Y_train.shape))\n",
        "print (\"X_test shape: \" + str(X_test.shape))\n",
        "print (\"Y_test shape: \" + str(Y_test.shape))"
      ],
      "execution_count": 13,
      "outputs": [
        {
          "output_type": "stream",
          "text": [
            "number of training examples = 600\n",
            "number of test examples = 150\n",
            "X_train shape: (600, 64, 64, 3)\n",
            "Y_train shape: (600, 1)\n",
            "X_test shape: (150, 64, 64, 3)\n",
            "Y_test shape: (150, 1)\n"
          ],
          "name": "stdout"
        }
      ]
    },
    {
      "cell_type": "code",
      "metadata": {
        "id": "hkue7eCoxBJQ",
        "colab_type": "code",
        "colab": {}
      },
      "source": [
        "def model1(input_shape):\n",
        "\n",
        "    \n",
        "    # Define the input placeholder as a tensor with shape input_shape. Think of this as your input image!\n",
        "    X_input = Input(input_shape)\n",
        "\n",
        "    # Zero-Padding: pads the border of X_input with zeroes\n",
        "    X = ZeroPadding2D((3, 3))(X_input)\n",
        "\n",
        "    # CONV -> BN -> RELU Block applied to X\n",
        "    X = Conv2D(32, (7, 7), strides = (1, 1), name = 'conv0')(X)\n",
        "    X = BatchNormalization(axis = 3, name = 'bn0')(X)\n",
        "    X = Activation('relu')(X)\n",
        "\n",
        "    # MAXPOOL\n",
        "    X = MaxPooling2D((2, 2), name='max_pool')(X)\n",
        "\n",
        "    # FLATTEN X (means convert it to a vector) + FULLYCONNECTED\n",
        "    X = Flatten()(X)\n",
        "    X = Dense(1, activation='sigmoid', name='fc')(X)\n",
        "\n",
        "    # Create model. This creates your Keras model instance, you'll use this instance to train/test the model.\n",
        "    model = Model(inputs = X_input, outputs = X, name='HappyModel')\n",
        "    \n",
        "    return model"
      ],
      "execution_count": 0,
      "outputs": []
    },
    {
      "cell_type": "code",
      "metadata": {
        "id": "hhVSJ9GYzGNm",
        "colab_type": "code",
        "colab": {}
      },
      "source": [
        "# GRADED FUNCTION: HappyModel\n",
        "\n",
        "def EmotionDetector(input_shape):\n",
        "    \"\"\"\n",
        "    Implementation of the HappyModel.\n",
        "    \n",
        "    Arguments:\n",
        "    input_shape -- shape of the images of the dataset\n",
        "        (height, width, channels) as a tuple.  \n",
        "        Note that this does not include the 'batch' as a dimension.\n",
        "        If you have a batch like 'X_train', \n",
        "        then you can provide the input_shape using\n",
        "        X_train.shape[1:]\n",
        "    \"\"\"\n",
        "    \"\"\"\n",
        "    Returns:\n",
        "    model -- a Model() instance in Keras\n",
        "    \"\"\"\n",
        "\n",
        "         \n",
        "    X_input = Input(input_shape)\n",
        "    X = Conv2D(16 , (5,5) , strides= (1,1) ,padding= 'same' , name = 'conv0')(X_input)\n",
        "    X = BatchNormalization(axis=3 , beta_initializer= 'zeros' , gamma_initializer= 'ones', name = 'bn0')(X)\n",
        "    X = Activation('relu')(X)\n",
        "\n",
        "    X = MaxPooling2D(pool_size=(3,3) , name = 'maxpool0')(X)\n",
        "\n",
        "    X = Conv2D(32 , (3,3) , strides= (1,1) , padding='valid' , name = 'conv1')(X)\n",
        "    X = BatchNormalization(axis=3 , beta_initializer= 'zeros' , gamma_initializer= 'ones', name = 'bn1')(X)\n",
        "    X = Activation('relu')(X)\n",
        "\n",
        "    X= Flatten()(X)\n",
        "    X = Dense(5,activation='relu', name = 'fc0')(X)\n",
        "    X = Dense(1, activation='sigmoid', name = 'fc1')(X)\n",
        "\n",
        "    model = Model(input = X_input , output = X, name = 'MyfirstKerasModel')\n",
        "\n",
        "    \n",
        "    return model"
      ],
      "execution_count": 0,
      "outputs": []
    },
    {
      "cell_type": "code",
      "metadata": {
        "id": "4oFcntl2x4k-",
        "colab_type": "code",
        "colab": {
          "base_uri": "https://localhost:8080/",
          "height": 55
        },
        "outputId": "f395fb4c-f08a-47ad-9bfd-7d66a35469fd"
      },
      "source": [
        "\n",
        "emotionModel = EmotionDetector((64,64,3))\n",
        "\n",
        "emotionModel.compile(optimizer = \"adam\",loss = \"binary_crossentropy\",metrics = [\"accuracy\"])"
      ],
      "execution_count": 55,
      "outputs": [
        {
          "output_type": "stream",
          "text": [
            "/usr/local/lib/python3.6/dist-packages/ipykernel_launcher.py:35: UserWarning: Update your `Model` call to the Keras 2 API: `Model(name=\"MyfirstKerasModel\", inputs=Tensor(\"in..., outputs=Tensor(\"fc...)`\n"
          ],
          "name": "stderr"
        }
      ]
    },
    {
      "cell_type": "code",
      "metadata": {
        "id": "FdZq-2Cn976q",
        "colab_type": "code",
        "colab": {
          "base_uri": "https://localhost:8080/",
          "height": 1000
        },
        "outputId": "a1fefedf-4a4b-450a-e557-5f9eea5a46b8"
      },
      "source": [
        "emotionModel.fit(x = X_train,y = Y_train,epochs = 50 ,batch_size = 60 )"
      ],
      "execution_count": 56,
      "outputs": [
        {
          "output_type": "stream",
          "text": [
            "Epoch 1/50\n",
            "600/600 [==============================] - 1s 2ms/step - loss: 0.5517 - acc: 0.6583\n",
            "Epoch 2/50\n",
            "600/600 [==============================] - 0s 196us/step - loss: 0.2491 - acc: 0.9267\n",
            "Epoch 3/50\n",
            "600/600 [==============================] - 0s 201us/step - loss: 0.1606 - acc: 0.9433\n",
            "Epoch 4/50\n",
            "600/600 [==============================] - 0s 259us/step - loss: 0.0911 - acc: 0.9733\n",
            "Epoch 5/50\n",
            "600/600 [==============================] - 0s 202us/step - loss: 0.0675 - acc: 0.9833\n",
            "Epoch 6/50\n",
            "600/600 [==============================] - 0s 228us/step - loss: 0.0709 - acc: 0.9800\n",
            "Epoch 7/50\n",
            "600/600 [==============================] - 0s 239us/step - loss: 0.0577 - acc: 0.9817\n",
            "Epoch 8/50\n",
            "600/600 [==============================] - 0s 243us/step - loss: 0.0491 - acc: 0.9900\n",
            "Epoch 9/50\n",
            "600/600 [==============================] - 0s 237us/step - loss: 0.0386 - acc: 0.9867\n",
            "Epoch 10/50\n",
            "600/600 [==============================] - 0s 230us/step - loss: 0.0311 - acc: 0.9933\n",
            "Epoch 11/50\n",
            "600/600 [==============================] - 0s 232us/step - loss: 0.0256 - acc: 0.9967\n",
            "Epoch 12/50\n",
            "600/600 [==============================] - 0s 228us/step - loss: 0.0200 - acc: 0.9967\n",
            "Epoch 13/50\n",
            "600/600 [==============================] - 0s 204us/step - loss: 0.0196 - acc: 0.9983\n",
            "Epoch 14/50\n",
            "600/600 [==============================] - 0s 213us/step - loss: 0.0172 - acc: 0.9983\n",
            "Epoch 15/50\n",
            "600/600 [==============================] - 0s 220us/step - loss: 0.0152 - acc: 0.9967\n",
            "Epoch 16/50\n",
            "600/600 [==============================] - 0s 220us/step - loss: 0.0145 - acc: 0.9967\n",
            "Epoch 17/50\n",
            "600/600 [==============================] - 0s 207us/step - loss: 0.0123 - acc: 0.9983\n",
            "Epoch 18/50\n",
            "600/600 [==============================] - 0s 193us/step - loss: 0.0112 - acc: 1.0000\n",
            "Epoch 19/50\n",
            "600/600 [==============================] - 0s 202us/step - loss: 0.0118 - acc: 0.9983\n",
            "Epoch 20/50\n",
            "600/600 [==============================] - 0s 187us/step - loss: 0.0117 - acc: 0.9967\n",
            "Epoch 21/50\n",
            "600/600 [==============================] - 0s 228us/step - loss: 0.0080 - acc: 1.0000\n",
            "Epoch 22/50\n",
            "600/600 [==============================] - 0s 233us/step - loss: 0.0081 - acc: 0.9983\n",
            "Epoch 23/50\n",
            "600/600 [==============================] - 0s 212us/step - loss: 0.0061 - acc: 1.0000\n",
            "Epoch 24/50\n",
            "600/600 [==============================] - 0s 186us/step - loss: 0.0064 - acc: 0.9983\n",
            "Epoch 25/50\n",
            "600/600 [==============================] - 0s 202us/step - loss: 0.0054 - acc: 1.0000\n",
            "Epoch 26/50\n",
            "600/600 [==============================] - 0s 187us/step - loss: 0.0043 - acc: 1.0000\n",
            "Epoch 27/50\n",
            "600/600 [==============================] - 0s 200us/step - loss: 0.0039 - acc: 1.0000\n",
            "Epoch 28/50\n",
            "600/600 [==============================] - 0s 191us/step - loss: 0.0037 - acc: 1.0000\n",
            "Epoch 29/50\n",
            "600/600 [==============================] - 0s 208us/step - loss: 0.0034 - acc: 1.0000\n",
            "Epoch 30/50\n",
            "600/600 [==============================] - 0s 214us/step - loss: 0.0033 - acc: 1.0000\n",
            "Epoch 31/50\n",
            "600/600 [==============================] - 0s 233us/step - loss: 0.0027 - acc: 1.0000\n",
            "Epoch 32/50\n",
            "600/600 [==============================] - 0s 230us/step - loss: 0.0030 - acc: 1.0000\n",
            "Epoch 33/50\n",
            "600/600 [==============================] - 0s 186us/step - loss: 0.0027 - acc: 1.0000\n",
            "Epoch 34/50\n",
            "600/600 [==============================] - 0s 187us/step - loss: 0.0025 - acc: 1.0000\n",
            "Epoch 35/50\n",
            "600/600 [==============================] - 0s 186us/step - loss: 0.0028 - acc: 1.0000\n",
            "Epoch 36/50\n",
            "600/600 [==============================] - 0s 209us/step - loss: 0.0030 - acc: 1.0000\n",
            "Epoch 37/50\n",
            "600/600 [==============================] - 0s 208us/step - loss: 0.0021 - acc: 1.0000\n",
            "Epoch 38/50\n",
            "600/600 [==============================] - 0s 227us/step - loss: 0.0019 - acc: 1.0000\n",
            "Epoch 39/50\n",
            "600/600 [==============================] - 0s 213us/step - loss: 0.0018 - acc: 1.0000\n",
            "Epoch 40/50\n",
            "600/600 [==============================] - 0s 204us/step - loss: 0.0017 - acc: 1.0000\n",
            "Epoch 41/50\n",
            "600/600 [==============================] - 0s 234us/step - loss: 0.0016 - acc: 1.0000\n",
            "Epoch 42/50\n",
            "600/600 [==============================] - 0s 190us/step - loss: 0.0015 - acc: 1.0000\n",
            "Epoch 43/50\n",
            "600/600 [==============================] - 0s 184us/step - loss: 0.0015 - acc: 1.0000\n",
            "Epoch 44/50\n",
            "600/600 [==============================] - 0s 180us/step - loss: 0.0014 - acc: 1.0000\n",
            "Epoch 45/50\n",
            "600/600 [==============================] - 0s 203us/step - loss: 0.0013 - acc: 1.0000\n",
            "Epoch 46/50\n",
            "600/600 [==============================] - 0s 195us/step - loss: 0.0012 - acc: 1.0000\n",
            "Epoch 47/50\n",
            "600/600 [==============================] - 0s 226us/step - loss: 0.0011 - acc: 1.0000\n",
            "Epoch 48/50\n",
            "600/600 [==============================] - 0s 207us/step - loss: 0.0010 - acc: 1.0000\n",
            "Epoch 49/50\n",
            "600/600 [==============================] - 0s 209us/step - loss: 0.0010 - acc: 1.0000\n",
            "Epoch 50/50\n",
            "600/600 [==============================] - 0s 197us/step - loss: 9.9016e-04 - acc: 1.0000\n"
          ],
          "name": "stdout"
        },
        {
          "output_type": "execute_result",
          "data": {
            "text/plain": [
              "<keras.callbacks.History at 0x7f4f634bac50>"
            ]
          },
          "metadata": {
            "tags": []
          },
          "execution_count": 56
        }
      ]
    },
    {
      "cell_type": "code",
      "metadata": {
        "id": "Y7TUxzjc9-ZR",
        "colab_type": "code",
        "colab": {
          "base_uri": "https://localhost:8080/",
          "height": 91
        },
        "outputId": "81c11bff-8876-4661-963c-d8711b7ba9b2"
      },
      "source": [
        "### START CODE HERE ### (1 line)\n",
        "preds = emotionModel.evaluate(x = X_test , y = Y_test )\n",
        "### END CODE HERE ###\n",
        "print()\n",
        "print (\"Loss = \" + str(preds[0]))\n",
        "print (\"Test Accuracy = \" + str(preds[1]))"
      ],
      "execution_count": 57,
      "outputs": [
        {
          "output_type": "stream",
          "text": [
            "150/150 [==============================] - 0s 2ms/step\n",
            "\n",
            "Loss = 0.07643400837977728\n",
            "Test Accuracy = 0.9600000039736429\n"
          ],
          "name": "stdout"
        }
      ]
    },
    {
      "cell_type": "code",
      "metadata": {
        "id": "42VPMPZ3-h9p",
        "colab_type": "code",
        "colab": {
          "base_uri": "https://localhost:8080/",
          "height": 572
        },
        "outputId": "df51be72-891a-4a06-dd88-00154875160d"
      },
      "source": [
        "emotionModel.summary()"
      ],
      "execution_count": 58,
      "outputs": [
        {
          "output_type": "stream",
          "text": [
            "Model: \"MyfirstKerasModel\"\n",
            "_________________________________________________________________\n",
            "Layer (type)                 Output Shape              Param #   \n",
            "=================================================================\n",
            "input_5 (InputLayer)         (None, 64, 64, 3)         0         \n",
            "_________________________________________________________________\n",
            "conv0 (Conv2D)               (None, 64, 64, 16)        1216      \n",
            "_________________________________________________________________\n",
            "bn0 (BatchNormalization)     (None, 64, 64, 16)        64        \n",
            "_________________________________________________________________\n",
            "activation_9 (Activation)    (None, 64, 64, 16)        0         \n",
            "_________________________________________________________________\n",
            "maxpool0 (MaxPooling2D)      (None, 21, 21, 16)        0         \n",
            "_________________________________________________________________\n",
            "conv1 (Conv2D)               (None, 19, 19, 32)        4640      \n",
            "_________________________________________________________________\n",
            "bn1 (BatchNormalization)     (None, 19, 19, 32)        128       \n",
            "_________________________________________________________________\n",
            "activation_10 (Activation)   (None, 19, 19, 32)        0         \n",
            "_________________________________________________________________\n",
            "flatten_5 (Flatten)          (None, 11552)             0         \n",
            "_________________________________________________________________\n",
            "fc0 (Dense)                  (None, 5)                 57765     \n",
            "_________________________________________________________________\n",
            "fc1 (Dense)                  (None, 1)                 6         \n",
            "=================================================================\n",
            "Total params: 63,819\n",
            "Trainable params: 63,723\n",
            "Non-trainable params: 96\n",
            "_________________________________________________________________\n"
          ],
          "name": "stdout"
        }
      ]
    },
    {
      "cell_type": "code",
      "metadata": {
        "id": "btYNuDzw-5k5",
        "colab_type": "code",
        "colab": {
          "base_uri": "https://localhost:8080/",
          "height": 1000
        },
        "outputId": "649d8111-703f-4233-d52f-92f1d42cf8c4"
      },
      "source": [
        "plot_model(emotionModel, to_file='emotionModel.png')\n",
        "SVG(model_to_dot(emotionModel).create(prog='dot', format='svg'))"
      ],
      "execution_count": 59,
      "outputs": [
        {
          "output_type": "execute_result",
          "data": {
            "text/plain": [
              "<IPython.core.display.SVG object>"
            ],
            "image/svg+xml": "<svg height=\"1033pt\" viewBox=\"0.00 0.00 181.00 775.00\" width=\"241pt\" xmlns=\"http://www.w3.org/2000/svg\" xmlns:xlink=\"http://www.w3.org/1999/xlink\">\n<g class=\"graph\" id=\"graph0\" transform=\"scale(1.3333 1.3333) rotate(0) translate(4 771)\">\n<title>G</title>\n<polygon fill=\"#ffffff\" points=\"-4,4 -4,-771 177,-771 177,4 -4,4\" stroke=\"transparent\"/>\n<!-- 139978945047016 -->\n<g class=\"node\" id=\"node1\">\n<title>139978945047016</title>\n<polygon fill=\"none\" points=\"20,-730.5 20,-766.5 153,-766.5 153,-730.5 20,-730.5\" stroke=\"#000000\"/>\n<text fill=\"#000000\" font-family=\"Times,serif\" font-size=\"14.00\" text-anchor=\"middle\" x=\"86.5\" y=\"-744.8\">input_5: InputLayer</text>\n</g>\n<!-- 139978945047520 -->\n<g class=\"node\" id=\"node2\">\n<title>139978945047520</title>\n<polygon fill=\"none\" points=\"31.5,-657.5 31.5,-693.5 141.5,-693.5 141.5,-657.5 31.5,-657.5\" stroke=\"#000000\"/>\n<text fill=\"#000000\" font-family=\"Times,serif\" font-size=\"14.00\" text-anchor=\"middle\" x=\"86.5\" y=\"-671.8\">conv0: Conv2D</text>\n</g>\n<!-- 139978945047016&#45;&gt;139978945047520 -->\n<g class=\"edge\" id=\"edge1\">\n<title>139978945047016-&gt;139978945047520</title>\n<path d=\"M86.5,-730.4551C86.5,-722.3828 86.5,-712.6764 86.5,-703.6817\" fill=\"none\" stroke=\"#000000\"/>\n<polygon fill=\"#000000\" points=\"90.0001,-703.5903 86.5,-693.5904 83.0001,-703.5904 90.0001,-703.5903\" stroke=\"#000000\"/>\n</g>\n<!-- 139978945046344 -->\n<g class=\"node\" id=\"node3\">\n<title>139978945046344</title>\n<polygon fill=\"none\" points=\"6,-584.5 6,-620.5 167,-620.5 167,-584.5 6,-584.5\" stroke=\"#000000\"/>\n<text fill=\"#000000\" font-family=\"Times,serif\" font-size=\"14.00\" text-anchor=\"middle\" x=\"86.5\" y=\"-598.8\">bn0: BatchNormalization</text>\n</g>\n<!-- 139978945047520&#45;&gt;139978945046344 -->\n<g class=\"edge\" id=\"edge2\">\n<title>139978945047520-&gt;139978945046344</title>\n<path d=\"M86.5,-657.4551C86.5,-649.3828 86.5,-639.6764 86.5,-630.6817\" fill=\"none\" stroke=\"#000000\"/>\n<polygon fill=\"#000000\" points=\"90.0001,-630.5903 86.5,-620.5904 83.0001,-630.5904 90.0001,-630.5903\" stroke=\"#000000\"/>\n</g>\n<!-- 139978945045784 -->\n<g class=\"node\" id=\"node4\">\n<title>139978945045784</title>\n<polygon fill=\"none\" points=\"9.5,-511.5 9.5,-547.5 163.5,-547.5 163.5,-511.5 9.5,-511.5\" stroke=\"#000000\"/>\n<text fill=\"#000000\" font-family=\"Times,serif\" font-size=\"14.00\" text-anchor=\"middle\" x=\"86.5\" y=\"-525.8\">activation_9: Activation</text>\n</g>\n<!-- 139978945046344&#45;&gt;139978945045784 -->\n<g class=\"edge\" id=\"edge3\">\n<title>139978945046344-&gt;139978945045784</title>\n<path d=\"M86.5,-584.4551C86.5,-576.3828 86.5,-566.6764 86.5,-557.6817\" fill=\"none\" stroke=\"#000000\"/>\n<polygon fill=\"#000000\" points=\"90.0001,-557.5903 86.5,-547.5904 83.0001,-557.5904 90.0001,-557.5903\" stroke=\"#000000\"/>\n</g>\n<!-- 139978944715184 -->\n<g class=\"node\" id=\"node5\">\n<title>139978944715184</title>\n<polygon fill=\"none\" points=\"0,-438.5 0,-474.5 173,-474.5 173,-438.5 0,-438.5\" stroke=\"#000000\"/>\n<text fill=\"#000000\" font-family=\"Times,serif\" font-size=\"14.00\" text-anchor=\"middle\" x=\"86.5\" y=\"-452.8\">maxpool0: MaxPooling2D</text>\n</g>\n<!-- 139978945045784&#45;&gt;139978944715184 -->\n<g class=\"edge\" id=\"edge4\">\n<title>139978945045784-&gt;139978944715184</title>\n<path d=\"M86.5,-511.4551C86.5,-503.3828 86.5,-493.6764 86.5,-484.6817\" fill=\"none\" stroke=\"#000000\"/>\n<polygon fill=\"#000000\" points=\"90.0001,-484.5903 86.5,-474.5904 83.0001,-484.5904 90.0001,-484.5903\" stroke=\"#000000\"/>\n</g>\n<!-- 139978944617160 -->\n<g class=\"node\" id=\"node6\">\n<title>139978944617160</title>\n<polygon fill=\"none\" points=\"31.5,-365.5 31.5,-401.5 141.5,-401.5 141.5,-365.5 31.5,-365.5\" stroke=\"#000000\"/>\n<text fill=\"#000000\" font-family=\"Times,serif\" font-size=\"14.00\" text-anchor=\"middle\" x=\"86.5\" y=\"-379.8\">conv1: Conv2D</text>\n</g>\n<!-- 139978944715184&#45;&gt;139978944617160 -->\n<g class=\"edge\" id=\"edge5\">\n<title>139978944715184-&gt;139978944617160</title>\n<path d=\"M86.5,-438.4551C86.5,-430.3828 86.5,-420.6764 86.5,-411.6817\" fill=\"none\" stroke=\"#000000\"/>\n<polygon fill=\"#000000\" points=\"90.0001,-411.5903 86.5,-401.5904 83.0001,-411.5904 90.0001,-411.5903\" stroke=\"#000000\"/>\n</g>\n<!-- 139978945480576 -->\n<g class=\"node\" id=\"node7\">\n<title>139978945480576</title>\n<polygon fill=\"none\" points=\"6,-292.5 6,-328.5 167,-328.5 167,-292.5 6,-292.5\" stroke=\"#000000\"/>\n<text fill=\"#000000\" font-family=\"Times,serif\" font-size=\"14.00\" text-anchor=\"middle\" x=\"86.5\" y=\"-306.8\">bn1: BatchNormalization</text>\n</g>\n<!-- 139978944617160&#45;&gt;139978945480576 -->\n<g class=\"edge\" id=\"edge6\">\n<title>139978944617160-&gt;139978945480576</title>\n<path d=\"M86.5,-365.4551C86.5,-357.3828 86.5,-347.6764 86.5,-338.6817\" fill=\"none\" stroke=\"#000000\"/>\n<polygon fill=\"#000000\" points=\"90.0001,-338.5903 86.5,-328.5904 83.0001,-338.5904 90.0001,-338.5903\" stroke=\"#000000\"/>\n</g>\n<!-- 139978945481416 -->\n<g class=\"node\" id=\"node8\">\n<title>139978945481416</title>\n<polygon fill=\"none\" points=\"6,-219.5 6,-255.5 167,-255.5 167,-219.5 6,-219.5\" stroke=\"#000000\"/>\n<text fill=\"#000000\" font-family=\"Times,serif\" font-size=\"14.00\" text-anchor=\"middle\" x=\"86.5\" y=\"-233.8\">activation_10: Activation</text>\n</g>\n<!-- 139978945480576&#45;&gt;139978945481416 -->\n<g class=\"edge\" id=\"edge7\">\n<title>139978945480576-&gt;139978945481416</title>\n<path d=\"M86.5,-292.4551C86.5,-284.3828 86.5,-274.6764 86.5,-265.6817\" fill=\"none\" stroke=\"#000000\"/>\n<polygon fill=\"#000000\" points=\"90.0001,-265.5903 86.5,-255.5904 83.0001,-265.5904 90.0001,-265.5903\" stroke=\"#000000\"/>\n</g>\n<!-- 139978945270952 -->\n<g class=\"node\" id=\"node9\">\n<title>139978945270952</title>\n<polygon fill=\"none\" points=\"30,-146.5 30,-182.5 143,-182.5 143,-146.5 30,-146.5\" stroke=\"#000000\"/>\n<text fill=\"#000000\" font-family=\"Times,serif\" font-size=\"14.00\" text-anchor=\"middle\" x=\"86.5\" y=\"-160.8\">flatten_5: Flatten</text>\n</g>\n<!-- 139978945481416&#45;&gt;139978945270952 -->\n<g class=\"edge\" id=\"edge8\">\n<title>139978945481416-&gt;139978945270952</title>\n<path d=\"M86.5,-219.4551C86.5,-211.3828 86.5,-201.6764 86.5,-192.6817\" fill=\"none\" stroke=\"#000000\"/>\n<polygon fill=\"#000000\" points=\"90.0001,-192.5903 86.5,-182.5904 83.0001,-192.5904 90.0001,-192.5903\" stroke=\"#000000\"/>\n</g>\n<!-- 139978945214784 -->\n<g class=\"node\" id=\"node10\">\n<title>139978945214784</title>\n<polygon fill=\"none\" points=\"48,-73.5 48,-109.5 125,-109.5 125,-73.5 48,-73.5\" stroke=\"#000000\"/>\n<text fill=\"#000000\" font-family=\"Times,serif\" font-size=\"14.00\" text-anchor=\"middle\" x=\"86.5\" y=\"-87.8\">fc0: Dense</text>\n</g>\n<!-- 139978945270952&#45;&gt;139978945214784 -->\n<g class=\"edge\" id=\"edge9\">\n<title>139978945270952-&gt;139978945214784</title>\n<path d=\"M86.5,-146.4551C86.5,-138.3828 86.5,-128.6764 86.5,-119.6817\" fill=\"none\" stroke=\"#000000\"/>\n<polygon fill=\"#000000\" points=\"90.0001,-119.5903 86.5,-109.5904 83.0001,-119.5904 90.0001,-119.5903\" stroke=\"#000000\"/>\n</g>\n<!-- 139978945042976 -->\n<g class=\"node\" id=\"node11\">\n<title>139978945042976</title>\n<polygon fill=\"none\" points=\"48,-.5 48,-36.5 125,-36.5 125,-.5 48,-.5\" stroke=\"#000000\"/>\n<text fill=\"#000000\" font-family=\"Times,serif\" font-size=\"14.00\" text-anchor=\"middle\" x=\"86.5\" y=\"-14.8\">fc1: Dense</text>\n</g>\n<!-- 139978945214784&#45;&gt;139978945042976 -->\n<g class=\"edge\" id=\"edge10\">\n<title>139978945214784-&gt;139978945042976</title>\n<path d=\"M86.5,-73.4551C86.5,-65.3828 86.5,-55.6764 86.5,-46.6817\" fill=\"none\" stroke=\"#000000\"/>\n<polygon fill=\"#000000\" points=\"90.0001,-46.5903 86.5,-36.5904 83.0001,-46.5904 90.0001,-46.5903\" stroke=\"#000000\"/>\n</g>\n</g>\n</svg>"
          },
          "metadata": {
            "tags": []
          },
          "execution_count": 59
        }
      ]
    }
  ]
}